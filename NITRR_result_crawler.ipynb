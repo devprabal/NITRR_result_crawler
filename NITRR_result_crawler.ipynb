{
 "cells": [
  {
   "cell_type": "code",
   "execution_count": 1,
   "metadata": {},
   "outputs": [
    {
     "data": {
      "text/plain": [
       "\"\\nCreated for NITRR's Result website crawling\\nDate: Dec 18, 2018\\nauthor: devp\\n\""
      ]
     },
     "execution_count": 1,
     "metadata": {},
     "output_type": "execute_result"
    }
   ],
   "source": [
    "\"\"\"\n",
    "Created for NITRR's Result website crawling\n",
    "Date: Dec 18, 2018\n",
    "author: devp\n",
    "\"\"\""
   ]
  },
  {
   "cell_type": "code",
   "execution_count": 2,
   "metadata": {},
   "outputs": [],
   "source": [
    "from selenium import webdriver\n",
    "from selenium.webdriver.common.keys import Keys\n",
    "from selenium.webdriver.common.by import By\n",
    "from selenium.webdriver.support.ui import Select\n",
    "from selenium.webdriver.support.ui import WebDriverWait\n",
    "from selenium.webdriver.support import expected_conditions as EC\n",
    "from selenium.webdriver.common.alert import Alert\n",
    "from selenium.common.exceptions import NoSuchElementException\n",
    "import csv\n",
    "import pandas as pd"
   ]
  },
  {
   "cell_type": "code",
   "execution_count": 3,
   "metadata": {},
   "outputs": [],
   "source": [
    "browser = webdriver.Firefox()"
   ]
  },
  {
   "cell_type": "code",
   "execution_count": 4,
   "metadata": {},
   "outputs": [],
   "source": [
    "start_roll_no = '16118001'\n",
    "expected_no_of_students = 85\n",
    "\n",
    "# for 90(sliders) series\n",
    "#start_roll_no = '16118901'\n",
    "#expected_no_of_students = 10\n",
    "\n",
    "filename = 'IT_BTech_5th_Sem'"
   ]
  },
  {
   "cell_type": "code",
   "execution_count": 5,
   "metadata": {},
   "outputs": [],
   "source": [
    "url_addr = \"https://results.nitrr.ac.in/Default.aspx\""
   ]
  },
  {
   "cell_type": "code",
   "execution_count": 6,
   "metadata": {},
   "outputs": [],
   "source": [
    "browser.get(url_addr)"
   ]
  },
  {
   "cell_type": "code",
   "execution_count": 7,
   "metadata": {},
   "outputs": [],
   "source": [
    "roll_no = start_roll_no\n",
    "for x in range(expected_no_of_students):\n",
    "    roll_no_find = browser.find_element_by_id(\"txtRegno\")\n",
    "    roll_no_find.clear()\n",
    "    roll_no_find.send_keys(roll_no)\n",
    "    btnimgShow_find = browser.find_element_by_id(\"btnimgShow\")\n",
    "    btnimgShow_find.click()\n",
    "    \n",
    "    lblSName_find = browser.find_elements_by_id(\"lblSName\")\n",
    "    \n",
    "    if len(lblSName_find)>0: #for handling student not available or result not published case\n",
    "        WebDriverWait(browser,8).until(EC.presence_of_element_located((By.ID,'ddlSemester')))\n",
    "        #the above wait for giving sufficient time to load the page for select drop-down menu\n",
    "        select_sem = Select(browser.find_element_by_id(\"ddlSemester\"))\n",
    "        try:\n",
    "            select_sem.select_by_value('5') # for handling students not in 5th Sem (eg. Rollno 48)\n",
    "            show_result_find = browser.find_element_by_id(\"btnimgShowResult\")\n",
    "            show_result_find.click()\n",
    "            WebDriverWait(browser,6).until(EC.presence_of_element_located((By.ID,\"lblSPI\")))\n",
    "            # the below cannot be done yet (page doesn't load fully and text is extracted\n",
    "            # resulting in duplicate texts)\n",
    "            #stu_name_find = browser.find_element_by_id(\"lblStudentName\")\n",
    "            #stu_name = stu_name_find.text\n",
    "            spi_find = browser.find_element_by_id(\"lblSPI\")\n",
    "            spi = spi_find.text\n",
    "            cpi_find = browser.find_element_by_id(\"lblCPI\")\n",
    "            cpi = cpi_find.text\n",
    "\n",
    "            dict_stu_details={\n",
    "                'Roll_no':roll_no,\n",
    "                'SPI':spi,\n",
    "                'CPI':cpi\n",
    "                }\n",
    "\n",
    "            roll_no = str(int(roll_no)+1)\n",
    "            with open(filename,'a+', newline='') as csvfile:\n",
    "                fieldnames = ['Roll_no',\n",
    "                             'SPI',\n",
    "                             'CPI'\n",
    "                             ]\n",
    "                writer = csv.DictWriter(csvfile,fieldnames=fieldnames)\n",
    "                writer.writerow(dict_stu_details)\n",
    "        except NoSuchElementException:\n",
    "            roll_no = str(int(roll_no)+1)\n",
    "            pass\n",
    "        \n",
    "    else:\n",
    "        roll_no = str(int(roll_no)+1)\n",
    "        stu_not_found_alert_box = browser.switch_to_alert()\n",
    "        stu_not_found_alert_box.accept()"
   ]
  },
  {
   "cell_type": "code",
   "execution_count": 8,
   "metadata": {},
   "outputs": [],
   "source": [
    "# to make a spreadsheet instead of text document\n",
    "df = pd.read_csv(filename,header=None)\n",
    "df.rename(columns={0:'RollNo',1:'SPI',2:'CPI'},inplace=True)\n",
    "df.to_csv(filename+'_final.csv',index=False)"
   ]
  }
 ],
 "metadata": {
  "kernelspec": {
   "display_name": "Python 3",
   "language": "python",
   "name": "python3"
  },
  "language_info": {
   "codemirror_mode": {
    "name": "ipython",
    "version": 3
   },
   "file_extension": ".py",
   "mimetype": "text/x-python",
   "name": "python",
   "nbconvert_exporter": "python",
   "pygments_lexer": "ipython3",
   "version": "3.6.6"
  },
  "varInspector": {
   "cols": {
    "lenName": 16,
    "lenType": 16,
    "lenVar": 40
   },
   "kernels_config": {
    "python": {
     "delete_cmd_postfix": "",
     "delete_cmd_prefix": "del ",
     "library": "var_list.py",
     "varRefreshCmd": "print(var_dic_list())"
    },
    "r": {
     "delete_cmd_postfix": ") ",
     "delete_cmd_prefix": "rm(",
     "library": "var_list.r",
     "varRefreshCmd": "cat(var_dic_list()) "
    }
   },
   "types_to_exclude": [
    "module",
    "function",
    "builtin_function_or_method",
    "instance",
    "_Feature"
   ],
   "window_display": false
  }
 },
 "nbformat": 4,
 "nbformat_minor": 2
}
